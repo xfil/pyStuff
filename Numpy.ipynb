{
  "nbformat": 4,
  "nbformat_minor": 0,
  "metadata": {
    "colab": {
      "provenance": [],
      "authorship_tag": "ABX9TyMeNEHBS++XGUydzg0zMYVe",
      "include_colab_link": true
    },
    "kernelspec": {
      "name": "python3",
      "display_name": "Python 3"
    },
    "language_info": {
      "name": "python"
    }
  },
  "cells": [
    {
      "cell_type": "markdown",
      "metadata": {
        "id": "view-in-github",
        "colab_type": "text"
      },
      "source": [
        "<a href=\"https://colab.research.google.com/github/xfil/pyStuff/blob/master/Numpy.ipynb\" target=\"_parent\"><img src=\"https://colab.research.google.com/assets/colab-badge.svg\" alt=\"Open In Colab\"/></a>"
      ]
    },
    {
      "cell_type": "markdown",
      "metadata": {
        "id": "FIGcF59NDh-d"
      },
      "source": [
        "# **Numpy module**\n",
        "\n",
        "NumPy (short for \"Numerical Python\") is a Python library used for working with arrays\n",
        "\n",
        "Includes functions for linear algebra, fourier transform, and matrices.\n",
        "\n",
        "NumPy was created in 2005 by Travis Oliphant. \n",
        "\n"
      ]
    },
    {
      "cell_type": "markdown",
      "source": [
        "## **Lists vs Arrays**\n",
        "\n",
        "By default Python provides Lists which are similar to arrays\n",
        "However, numpy aims to provide a much faster and more efficient array structure and that can handle math opperations that cannot be applied to Lists.\n",
        "\n",
        "These structures are essential to Data Science\n",
        "\n",
        "To use arrays in Python they need to be imported such as from the numpy library\n",
        "\n",
        "Contrary to Lists, arrays must be declared\n",
        "\n",
        "https://www.w3schools.com/python/numpy/numpy_intro.asp\n",
        "https://www.kaggle.com/code/ravichaubey1506/essential-numpy/notebook"
      ],
      "metadata": {
        "id": "aOm1-VmLFbjP"
      }
    },
    {
      "cell_type": "code",
      "source": [
        "import numpy as np # the 'as' creates an alias, now numpy can be refered simply as np"
      ],
      "metadata": {
        "id": "-Zyp3NkKFa-Z"
      },
      "execution_count": 3,
      "outputs": []
    },
    {
      "cell_type": "code",
      "metadata": {
        "id": "CNJaHasJDWaL",
        "colab": {
          "base_uri": "https://localhost:8080/"
        },
        "outputId": "d5a325a4-c008-42f8-e10e-82b39b5a7875"
      },
      "source": [
        "array = np.array([\"numbers\", 3, 6, 9, 12])\n",
        "print (array)\n",
        "print(type(array)) # the numpy array is an ndarray object"
      ],
      "execution_count": 4,
      "outputs": [
        {
          "output_type": "stream",
          "name": "stdout",
          "text": [
            "['numbers' '3' '6' '9' '12']\n",
            "<class 'numpy.ndarray'>\n"
          ]
        }
      ]
    },
    {
      "cell_type": "code",
      "source": [
        "# Create array with float type\n",
        "np.array([10,20,30],dtype=float)"
      ],
      "metadata": {
        "colab": {
          "base_uri": "https://localhost:8080/"
        },
        "id": "euaDuOTF2UaQ",
        "outputId": "9c51f594-731e-49a6-e301-df998da6c27b"
      },
      "execution_count": 5,
      "outputs": [
        {
          "output_type": "execute_result",
          "data": {
            "text/plain": [
              "array([10., 20., 30.])"
            ]
          },
          "metadata": {},
          "execution_count": 5
        }
      ]
    },
    {
      "cell_type": "code",
      "source": [
        "np.zeros(15)"
      ],
      "metadata": {
        "colab": {
          "base_uri": "https://localhost:8080/"
        },
        "id": "e-sXnvHP2UW_",
        "outputId": "45862cf1-5121-4303-a175-cbc4df2dd12d"
      },
      "execution_count": 6,
      "outputs": [
        {
          "output_type": "execute_result",
          "data": {
            "text/plain": [
              "array([0., 0., 0., 0., 0., 0., 0., 0., 0., 0., 0., 0., 0., 0., 0.])"
            ]
          },
          "metadata": {},
          "execution_count": 6
        }
      ]
    },
    {
      "cell_type": "code",
      "source": [
        "print(np.zeros((5,5)))\n",
        "print(np.ones((5,5)))"
      ],
      "metadata": {
        "colab": {
          "base_uri": "https://localhost:8080/"
        },
        "id": "EIv-S26T2UT1",
        "outputId": "47b29054-3556-435e-bca5-5495ead2f1c1"
      },
      "execution_count": 10,
      "outputs": [
        {
          "output_type": "stream",
          "name": "stdout",
          "text": [
            "[[0. 0. 0. 0. 0.]\n",
            " [0. 0. 0. 0. 0.]\n",
            " [0. 0. 0. 0. 0.]\n",
            " [0. 0. 0. 0. 0.]\n",
            " [0. 0. 0. 0. 0.]]\n",
            "[[1. 1. 1. 1. 1.]\n",
            " [1. 1. 1. 1. 1.]\n",
            " [1. 1. 1. 1. 1.]\n",
            " [1. 1. 1. 1. 1.]\n",
            " [1. 1. 1. 1. 1.]]\n"
          ]
        }
      ]
    },
    {
      "cell_type": "code",
      "source": [
        "np.full((5,5),5)"
      ],
      "metadata": {
        "colab": {
          "base_uri": "https://localhost:8080/"
        },
        "id": "JT6EDUBa2UQv",
        "outputId": "1d255fc8-41d9-4d5e-a272-0962c39411ec"
      },
      "execution_count": 11,
      "outputs": [
        {
          "output_type": "execute_result",
          "data": {
            "text/plain": [
              "array([[5, 5, 5, 5, 5],\n",
              "       [5, 5, 5, 5, 5],\n",
              "       [5, 5, 5, 5, 5],\n",
              "       [5, 5, 5, 5, 5],\n",
              "       [5, 5, 5, 5, 5]])"
            ]
          },
          "metadata": {},
          "execution_count": 11
        }
      ]
    },
    {
      "cell_type": "code",
      "source": [
        "np.linspace(0,49) # gives 10 equally spaced value between 0 and 49 - by default outputs 50 values"
      ],
      "metadata": {
        "colab": {
          "base_uri": "https://localhost:8080/"
        },
        "id": "740URJBO2UNY",
        "outputId": "0f4bd7c6-bf9e-42fa-b232-b05291fc1422"
      },
      "execution_count": 13,
      "outputs": [
        {
          "output_type": "execute_result",
          "data": {
            "text/plain": [
              "array([ 0.,  1.,  2.,  3.,  4.,  5.,  6.,  7.,  8.,  9., 10., 11., 12.,\n",
              "       13., 14., 15., 16., 17., 18., 19., 20., 21., 22., 23., 24., 25.,\n",
              "       26., 27., 28., 29., 30., 31., 32., 33., 34., 35., 36., 37., 38.,\n",
              "       39., 40., 41., 42., 43., 44., 45., 46., 47., 48., 49.])"
            ]
          },
          "metadata": {},
          "execution_count": 13
        }
      ]
    },
    {
      "cell_type": "code",
      "source": [
        "np.linspace(0,9,10) # define the number of output number as 10"
      ],
      "metadata": {
        "colab": {
          "base_uri": "https://localhost:8080/"
        },
        "id": "XF_Nr8oj2UKN",
        "outputId": "616ac9bb-1315-403e-e1b9-2ce159c21319"
      },
      "execution_count": 14,
      "outputs": [
        {
          "output_type": "execute_result",
          "data": {
            "text/plain": [
              "array([0., 1., 2., 3., 4., 5., 6., 7., 8., 9.])"
            ]
          },
          "metadata": {},
          "execution_count": 14
        }
      ]
    },
    {
      "cell_type": "code",
      "source": [
        "np.random.random((5,5)) # Uniformly distributed random number between 0 and 1"
      ],
      "metadata": {
        "colab": {
          "base_uri": "https://localhost:8080/"
        },
        "id": "26bzmmD94FND",
        "outputId": "f72a990b-2e3e-46ef-d1d0-8e5739569a24"
      },
      "execution_count": 15,
      "outputs": [
        {
          "output_type": "execute_result",
          "data": {
            "text/plain": [
              "array([[0.79139183, 0.49955771, 0.19117638, 0.03948174, 0.4749722 ],\n",
              "       [0.00685714, 0.77346359, 0.76051341, 0.06686075, 0.3262516 ],\n",
              "       [0.76748839, 0.60476437, 0.10966265, 0.76732205, 0.14183987],\n",
              "       [0.93994383, 0.85382435, 0.24064533, 0.33556447, 0.29456516],\n",
              "       [0.53206388, 0.65863283, 0.93151455, 0.68409888, 0.1121958 ]])"
            ]
          },
          "metadata": {},
          "execution_count": 15
        }
      ]
    },
    {
      "cell_type": "code",
      "source": [
        "print(np.random.randint(0,10,5)) # 5 Random Integer between 0 and 10\n",
        "print(np.random.randint(0,10,(5,5)))"
      ],
      "metadata": {
        "colab": {
          "base_uri": "https://localhost:8080/"
        },
        "id": "1aWydMUR4FKS",
        "outputId": "c007e82d-ee83-40e8-9428-b764f096ee73"
      },
      "execution_count": 16,
      "outputs": [
        {
          "output_type": "stream",
          "name": "stdout",
          "text": [
            "[2 8 9 6 2]\n",
            "[[7 5 0 2 4]\n",
            " [8 6 9 0 1]\n",
            " [0 9 9 7 1]\n",
            " [4 4 0 4 9]\n",
            " [0 8 9 2 9]]\n"
          ]
        }
      ]
    },
    {
      "cell_type": "code",
      "source": [
        "np.random.randn(10,10) #normally distributed numbers"
      ],
      "metadata": {
        "colab": {
          "base_uri": "https://localhost:8080/"
        },
        "id": "hvxgJwFm4FHe",
        "outputId": "9266eca4-a8c4-406b-a6ac-8a9866950a89"
      },
      "execution_count": 17,
      "outputs": [
        {
          "output_type": "execute_result",
          "data": {
            "text/plain": [
              "array([[-1.89764086,  0.55271959,  0.90024487, -1.11318942, -0.1508521 ,\n",
              "        -0.89339172, -0.65182398, -0.85352388,  0.33440647,  1.99790507],\n",
              "       [ 0.37905096, -0.57803856, -0.18307867,  0.3005285 ,  1.26566171,\n",
              "        -1.64173129,  1.27478654, -2.20983629,  1.51756195, -0.89372768],\n",
              "       [ 0.12876689, -1.94693357, -1.41307221,  0.12829031,  0.64464753,\n",
              "        -1.27762423,  0.27904613,  1.48382218,  1.34260903, -1.73333999],\n",
              "       [ 0.91535144,  0.81702948, -0.25712008,  0.76940381,  0.24041627,\n",
              "        -0.16618064, -0.90431655, -1.46905529,  0.1564048 ,  1.46008278],\n",
              "       [ 1.89636641,  1.27528919,  0.37957325, -1.33369765, -0.35186649,\n",
              "        -0.55096621,  1.24774529, -0.3319259 ,  0.05656793, -0.15528337],\n",
              "       [ 0.88894208, -0.518279  , -0.77703799, -1.07165137,  0.45091907,\n",
              "         0.17137499, -1.16777025,  0.27275071, -0.55359284, -0.35920464],\n",
              "       [ 0.4794752 , -0.45719773, -1.38325749, -0.53968264,  0.99235543,\n",
              "        -1.6246141 ,  0.51583855,  2.25218392,  0.79860092, -0.9078913 ],\n",
              "       [ 0.95336613,  1.26417944, -1.02130113,  1.14198259,  2.11315304,\n",
              "         1.05800493,  0.17278264, -1.88480562, -1.59110842, -0.14230103],\n",
              "       [-0.05328881,  1.45746207,  0.36724998,  0.04466298, -0.3885423 ,\n",
              "        -1.36962613,  0.24870032, -0.56259244, -0.16031651,  0.76977538],\n",
              "       [ 1.39361669, -0.39376832,  1.47164318, -1.39192014,  0.09942733,\n",
              "         0.41362352, -0.16222657, -1.2410852 , -0.86870542,  1.0241675 ]])"
            ]
          },
          "metadata": {},
          "execution_count": 17
        }
      ]
    },
    {
      "cell_type": "code",
      "source": [
        "# 3D array\n",
        "arr3D = np.random.randint(10,size=(3,3,5))#3,3*5 matrix \n",
        "arr3D"
      ],
      "metadata": {
        "colab": {
          "base_uri": "https://localhost:8080/"
        },
        "id": "YubYc7Ao4FE1",
        "outputId": "043132de-da9f-4e02-85de-0afe91e05287"
      },
      "execution_count": 24,
      "outputs": [
        {
          "output_type": "execute_result",
          "data": {
            "text/plain": [
              "array([[[3, 9, 5, 4, 4],\n",
              "        [0, 9, 6, 7, 5],\n",
              "        [6, 2, 2, 0, 4]],\n",
              "\n",
              "       [[6, 3, 2, 1, 9],\n",
              "        [3, 6, 3, 6, 7],\n",
              "        [4, 7, 1, 7, 1]],\n",
              "\n",
              "       [[9, 6, 4, 5, 2],\n",
              "        [0, 3, 5, 1, 7],\n",
              "        [8, 3, 1, 8, 7]]])"
            ]
          },
          "metadata": {},
          "execution_count": 24
        }
      ]
    },
    {
      "cell_type": "code",
      "source": [
        "print(arr3D.shape)\n",
        "print(arr3D.ndim)\n",
        "print(arr3D.size)"
      ],
      "metadata": {
        "colab": {
          "base_uri": "https://localhost:8080/"
        },
        "id": "TsFVlnDu4FCC",
        "outputId": "c3459416-dfdb-41c6-c9ac-c679be708cce"
      },
      "execution_count": 27,
      "outputs": [
        {
          "output_type": "stream",
          "name": "stdout",
          "text": [
            "(3, 3, 5)\n",
            "3\n",
            "45\n"
          ]
        }
      ]
    },
    {
      "cell_type": "markdown",
      "source": [
        "array = [[[8, 3], [2, 6]], \n",
        "         [[4, 5], [3, 7]], \n",
        "         [[7, 6], [8, 2]]]\n",
        "\n",
        "x = [[[8, 3], [2, 6]], [[4, 5], [3, 7]], [[7, 6], [8, 2]]]\n",
        "\n",
        "y =  [[8, 3], [2, 6]] and [[4, 5], [3, 7]] and [[7, 6], [8, 2]]\n",
        "\n",
        "z = [8, 3], [2, 6] and [4, 5], [3, 7] and [7, 6], [8, 2]\n"
      ],
      "metadata": {
        "id": "x5k4wv_i6i2q"
      }
    },
    {
      "cell_type": "markdown",
      "source": [
        "# **Array reshape**\n",
        "\n",
        "Convert between different dimension arrays"
      ],
      "metadata": {
        "id": "irK1X_T0-EWv"
      }
    },
    {
      "cell_type": "code",
      "source": [
        "arr1D = np.arange(0,12)\n",
        "arr1D"
      ],
      "metadata": {
        "colab": {
          "base_uri": "https://localhost:8080/"
        },
        "id": "GSuJLQnf4E8N",
        "outputId": "3098afdf-9e1f-409d-9a86-76f96f67db5b"
      },
      "execution_count": 36,
      "outputs": [
        {
          "output_type": "execute_result",
          "data": {
            "text/plain": [
              "array([ 0,  1,  2,  3,  4,  5,  6,  7,  8,  9, 10, 11])"
            ]
          },
          "metadata": {},
          "execution_count": 36
        }
      ]
    },
    {
      "cell_type": "code",
      "source": [
        "arr1D.reshape(3,4)"
      ],
      "metadata": {
        "colab": {
          "base_uri": "https://localhost:8080/"
        },
        "id": "WyYq18_A4E5O",
        "outputId": "2b54ca52-5fe9-4738-c388-e40c273af63a"
      },
      "execution_count": 37,
      "outputs": [
        {
          "output_type": "execute_result",
          "data": {
            "text/plain": [
              "array([[ 0,  1,  2,  3],\n",
              "       [ 4,  5,  6,  7],\n",
              "       [ 8,  9, 10, 11]])"
            ]
          },
          "metadata": {},
          "execution_count": 37
        }
      ]
    },
    {
      "cell_type": "code",
      "source": [
        "arr1D.reshape(1,12)"
      ],
      "metadata": {
        "colab": {
          "base_uri": "https://localhost:8080/"
        },
        "id": "YQLZPLYF9_QM",
        "outputId": "83e289a4-f010-4f55-c7e0-04bd0b0dcd04"
      },
      "execution_count": 38,
      "outputs": [
        {
          "output_type": "execute_result",
          "data": {
            "text/plain": [
              "array([[ 0,  1,  2,  3,  4,  5,  6,  7,  8,  9, 10, 11]])"
            ]
          },
          "metadata": {},
          "execution_count": 38
        }
      ]
    },
    {
      "cell_type": "code",
      "source": [
        "arr1D"
      ],
      "metadata": {
        "colab": {
          "base_uri": "https://localhost:8080/"
        },
        "id": "llDWWlXO-sgF",
        "outputId": "9954cf7f-c45b-4174-ffc9-0fad05938c60"
      },
      "execution_count": 39,
      "outputs": [
        {
          "output_type": "execute_result",
          "data": {
            "text/plain": [
              "array([ 0,  1,  2,  3,  4,  5,  6,  7,  8,  9, 10, 11])"
            ]
          },
          "metadata": {},
          "execution_count": 39
        }
      ]
    },
    {
      "cell_type": "code",
      "source": [
        "arr1D[np.newaxis,:] #add new axis - rowise"
      ],
      "metadata": {
        "colab": {
          "base_uri": "https://localhost:8080/"
        },
        "id": "hUOz5yKP-C-Q",
        "outputId": "9d12f0f6-f3f6-446d-d7c6-c9a7207c21bb"
      },
      "execution_count": 40,
      "outputs": [
        {
          "output_type": "execute_result",
          "data": {
            "text/plain": [
              "array([[ 0,  1,  2,  3,  4,  5,  6,  7,  8,  9, 10, 11]])"
            ]
          },
          "metadata": {},
          "execution_count": 40
        }
      ]
    },
    {
      "cell_type": "code",
      "source": [
        "arr1D[:,np.newaxis] #add new axis - columnwise"
      ],
      "metadata": {
        "colab": {
          "base_uri": "https://localhost:8080/"
        },
        "id": "q5d4WWwb-C7P",
        "outputId": "1aaa4c18-5cd7-464c-a608-726fbd3f8de9"
      },
      "execution_count": 41,
      "outputs": [
        {
          "output_type": "execute_result",
          "data": {
            "text/plain": [
              "array([[ 0],\n",
              "       [ 1],\n",
              "       [ 2],\n",
              "       [ 3],\n",
              "       [ 4],\n",
              "       [ 5],\n",
              "       [ 6],\n",
              "       [ 7],\n",
              "       [ 8],\n",
              "       [ 9],\n",
              "       [10],\n",
              "       [11]])"
            ]
          },
          "metadata": {},
          "execution_count": 41
        }
      ]
    },
    {
      "cell_type": "markdown",
      "source": [
        "# **Concatenate array**"
      ],
      "metadata": {
        "id": "VM9sOD-9_Dud"
      }
    },
    {
      "cell_type": "code",
      "source": [
        "arr1D2 = np.arange(0,20)\n",
        "arr1D2"
      ],
      "metadata": {
        "colab": {
          "base_uri": "https://localhost:8080/"
        },
        "id": "HNsYwheKI1Vk",
        "outputId": "c9a46ba5-78ab-4c2d-8489-6eb5b4982e57"
      },
      "execution_count": 46,
      "outputs": [
        {
          "output_type": "execute_result",
          "data": {
            "text/plain": [
              "array([ 0,  1,  2,  3,  4,  5,  6,  7,  8,  9, 10, 11, 12, 13, 14, 15, 16,\n",
              "       17, 18, 19])"
            ]
          },
          "metadata": {},
          "execution_count": 46
        }
      ]
    },
    {
      "cell_type": "code",
      "source": [
        "arrConc = np.concatenate([arr1D,arr1D2]) #Combine 2 arrays - same dimensionality\n",
        "arrConc"
      ],
      "metadata": {
        "colab": {
          "base_uri": "https://localhost:8080/"
        },
        "id": "qvvnR1gy_DYX",
        "outputId": "ff730c3d-2148-4afe-c4f0-5da87ebc6132"
      },
      "execution_count": 47,
      "outputs": [
        {
          "output_type": "execute_result",
          "data": {
            "text/plain": [
              "array([ 0,  1,  2,  3,  4,  5,  6,  7,  8,  9, 10, 11,  0,  1,  2,  3,  4,\n",
              "        5,  6,  7,  8,  9, 10, 11, 12, 13, 14, 15, 16, 17, 18, 19])"
            ]
          },
          "metadata": {},
          "execution_count": 47
        }
      ]
    },
    {
      "cell_type": "code",
      "source": [
        "arr2D = np.random.randint(0,10,(2,12)) #explain randint\n",
        "arr2D"
      ],
      "metadata": {
        "colab": {
          "base_uri": "https://localhost:8080/"
        },
        "id": "yHDSZPiB_DVJ",
        "outputId": "1655886e-0dfe-45dc-de09-3da7b8a04cbb"
      },
      "execution_count": 51,
      "outputs": [
        {
          "output_type": "execute_result",
          "data": {
            "text/plain": [
              "array([[1, 4, 7, 4, 8, 8, 9, 2, 0, 5, 8, 7],\n",
              "       [2, 8, 3, 7, 9, 2, 6, 5, 6, 7, 0, 0]])"
            ]
          },
          "metadata": {},
          "execution_count": 51
        }
      ]
    },
    {
      "cell_type": "code",
      "source": [
        "arrConc2 = np.vstack([arr1D,arr2D]) #combine 2 arrays with different dimensionality but dimension of first axis must be equal (12 in this case) - in numpy: rows - axis 0, columns axis 1\n",
        "arrConc2"
      ],
      "metadata": {
        "colab": {
          "base_uri": "https://localhost:8080/"
        },
        "id": "ntgAMS9MJ32S",
        "outputId": "1ef4ae0f-cb80-4252-ff55-2ff03f6364c5"
      },
      "execution_count": 52,
      "outputs": [
        {
          "output_type": "execute_result",
          "data": {
            "text/plain": [
              "array([[ 0,  1,  2,  3,  4,  5,  6,  7,  8,  9, 10, 11],\n",
              "       [ 1,  4,  7,  4,  8,  8,  9,  2,  0,  5,  8,  7],\n",
              "       [ 2,  8,  3,  7,  9,  2,  6,  5,  6,  7,  0,  0]])"
            ]
          },
          "metadata": {},
          "execution_count": 52
        }
      ]
    },
    {
      "cell_type": "markdown",
      "source": [
        "Numpy axes:\n",
        "https://www.sharpsightlabs.com/blog/numpy-axes-explained/"
      ],
      "metadata": {
        "id": "HUVci2e0TJdO"
      }
    },
    {
      "cell_type": "code",
      "source": [
        "x= np.array([[55], [46]])\n",
        "np.hstack([arr2D,x])"
      ],
      "metadata": {
        "colab": {
          "base_uri": "https://localhost:8080/"
        },
        "id": "SFxvmEJvLGJB",
        "outputId": "c2c7435b-14b4-4803-9530-c2858bd65d33"
      },
      "execution_count": 53,
      "outputs": [
        {
          "output_type": "execute_result",
          "data": {
            "text/plain": [
              "array([[ 1,  4,  7,  4,  8,  8,  9,  2,  0,  5,  8,  7, 55],\n",
              "       [ 2,  8,  3,  7,  9,  2,  6,  5,  6,  7,  0,  0, 46]])"
            ]
          },
          "metadata": {},
          "execution_count": 53
        }
      ]
    },
    {
      "cell_type": "markdown",
      "source": [
        "# **Split array**"
      ],
      "metadata": {
        "id": "PSt_W7OF_GV-"
      }
    },
    {
      "cell_type": "code",
      "source": [
        "np.split(arr1D,[2,5]) "
      ],
      "metadata": {
        "colab": {
          "base_uri": "https://localhost:8080/"
        },
        "id": "qsmQd5In_DSZ",
        "outputId": "d56a7302-030c-4e9d-d900-8cee71f6bf48"
      },
      "execution_count": 54,
      "outputs": [
        {
          "output_type": "execute_result",
          "data": {
            "text/plain": [
              "[array([0, 1]), array([2, 3, 4]), array([ 5,  6,  7,  8,  9, 10, 11])]"
            ]
          },
          "metadata": {},
          "execution_count": 54
        }
      ]
    },
    {
      "cell_type": "code",
      "source": [
        "upper,lower=np.vsplit(arr2D,[1])\n",
        "print(upper)\n",
        "print(\"\\n\")\n",
        "print(lower)"
      ],
      "metadata": {
        "colab": {
          "base_uri": "https://localhost:8080/"
        },
        "id": "aqWgilsy_DPh",
        "outputId": "75e8dc5a-2e7b-4794-8085-d4afe0416f78"
      },
      "execution_count": 56,
      "outputs": [
        {
          "output_type": "stream",
          "name": "stdout",
          "text": [
            "[[1 4 7 4 8 8 9 2 0 5 8 7]]\n",
            "\n",
            "\n",
            "[[2 8 3 7 9 2 6 5 6 7 0 0]]\n"
          ]
        }
      ]
    },
    {
      "cell_type": "code",
      "source": [
        "upper,lower=np.hsplit(arr2D,[6])\n",
        "print(upper)\n",
        "print(\"\\n\")\n",
        "print(lower)"
      ],
      "metadata": {
        "colab": {
          "base_uri": "https://localhost:8080/"
        },
        "id": "siT3rNxr_DMl",
        "outputId": "628fbac6-ef0a-4a36-9650-490216d7506f"
      },
      "execution_count": 57,
      "outputs": [
        {
          "output_type": "stream",
          "name": "stdout",
          "text": [
            "[[1 4 7 4 8 8]\n",
            " [2 8 3 7 9 2]]\n",
            "\n",
            "\n",
            "[[9 2 0 5 8 7]\n",
            " [6 5 6 7 0 0]]\n"
          ]
        }
      ]
    },
    {
      "cell_type": "markdown",
      "source": [
        "Funções"
      ],
      "metadata": {
        "id": "y2na6o3GMeBN"
      }
    },
    {
      "cell_type": "code",
      "source": [
        "arr1D = np.arange(5)\n",
        "print(arr1D)\n",
        "np.add(arr1D,3) #add +3 to each position"
      ],
      "metadata": {
        "colab": {
          "base_uri": "https://localhost:8080/"
        },
        "id": "e9ap75nuMdcm",
        "outputId": "fd1f3d6c-12df-4aa2-c22f-9f8862300aa0"
      },
      "execution_count": 64,
      "outputs": [
        {
          "output_type": "stream",
          "name": "stdout",
          "text": [
            "[0 1 2 3 4]\n"
          ]
        },
        {
          "output_type": "execute_result",
          "data": {
            "text/plain": [
              "array([3, 4, 5, 6, 7])"
            ]
          },
          "metadata": {},
          "execution_count": 64
        }
      ]
    },
    {
      "cell_type": "code",
      "source": [
        "arr1D2 = np.empty(5)\n",
        "print(arr1D)\n",
        "np.multiply(arr1D,10,out=arr1D2)\n",
        "#print(arr1D2)"
      ],
      "metadata": {
        "colab": {
          "base_uri": "https://localhost:8080/"
        },
        "id": "OMEPNaz6M_h7",
        "outputId": "f8cb1e21-b91a-414c-d636-a1f1ab1cb505"
      },
      "execution_count": 69,
      "outputs": [
        {
          "output_type": "stream",
          "name": "stdout",
          "text": [
            "[0 1 2 3 4]\n"
          ]
        },
        {
          "output_type": "execute_result",
          "data": {
            "text/plain": [
              "array([ 0., 10., 20., 30., 40.])"
            ]
          },
          "metadata": {},
          "execution_count": 69
        }
      ]
    },
    {
      "cell_type": "code",
      "source": [
        "arr1D3 = np.zeros(15)\n",
        "print(arr1D3)\n",
        "np.power(3,arr1D,out=arr1D3[::3])\n",
        "print(arr1D3)"
      ],
      "metadata": {
        "colab": {
          "base_uri": "https://localhost:8080/"
        },
        "id": "ZID93UucNj3V",
        "outputId": "d9e8a679-0dbe-4194-99d2-85a63f683806"
      },
      "execution_count": 71,
      "outputs": [
        {
          "output_type": "stream",
          "name": "stdout",
          "text": [
            "[0. 0. 0. 0. 0. 0. 0. 0. 0. 0. 0. 0. 0. 0. 0.]\n",
            "[ 1.  0.  0.  3.  0.  0.  9.  0.  0. 27.  0.  0. 81.  0.  0.]\n"
          ]
        }
      ]
    },
    {
      "cell_type": "code",
      "source": [
        "np.add.reduce(arr1D)"
      ],
      "metadata": {
        "colab": {
          "base_uri": "https://localhost:8080/"
        },
        "id": "yKL48CBNPI0D",
        "outputId": "6c20dd37-9d50-4efc-f55b-d18803fe0efb"
      },
      "execution_count": 72,
      "outputs": [
        {
          "output_type": "execute_result",
          "data": {
            "text/plain": [
              "10"
            ]
          },
          "metadata": {},
          "execution_count": 72
        }
      ]
    },
    {
      "cell_type": "code",
      "source": [
        "arr1D=np.arange(1,11)\n",
        "arr1D"
      ],
      "metadata": {
        "colab": {
          "base_uri": "https://localhost:8080/"
        },
        "id": "jQ4DDsJXPaBT",
        "outputId": "db1a279a-bb69-400b-c07d-faaabe12b718"
      },
      "execution_count": 77,
      "outputs": [
        {
          "output_type": "execute_result",
          "data": {
            "text/plain": [
              "array([ 1,  2,  3,  4,  5,  6,  7,  8,  9, 10])"
            ]
          },
          "metadata": {},
          "execution_count": 77
        }
      ]
    },
    {
      "cell_type": "code",
      "source": [
        "np.add.reduce(arr1D)"
      ],
      "metadata": {
        "colab": {
          "base_uri": "https://localhost:8080/"
        },
        "id": "ZJhjRanVP1_8",
        "outputId": "141b0a62-1235-4a32-c36e-b3b9593dc15a"
      },
      "execution_count": 78,
      "outputs": [
        {
          "output_type": "execute_result",
          "data": {
            "text/plain": [
              "55"
            ]
          },
          "metadata": {},
          "execution_count": 78
        }
      ]
    },
    {
      "cell_type": "code",
      "source": [
        "np.multiply.reduce(arr1D)"
      ],
      "metadata": {
        "colab": {
          "base_uri": "https://localhost:8080/"
        },
        "id": "M6Ii3ynvPIuM",
        "outputId": "926ea0d7-6540-444c-8250-16cc325318b1"
      },
      "execution_count": 79,
      "outputs": [
        {
          "output_type": "execute_result",
          "data": {
            "text/plain": [
              "3628800"
            ]
          },
          "metadata": {},
          "execution_count": 79
        }
      ]
    },
    {
      "cell_type": "code",
      "source": [
        "np.add.accumulate(arr1D)"
      ],
      "metadata": {
        "colab": {
          "base_uri": "https://localhost:8080/"
        },
        "id": "XLBvJewUPIxB",
        "outputId": "68478766-1e17-4053-94a8-9774eeb5221e"
      },
      "execution_count": 80,
      "outputs": [
        {
          "output_type": "execute_result",
          "data": {
            "text/plain": [
              "array([ 1,  3,  6, 10, 15, 21, 28, 36, 45, 55])"
            ]
          },
          "metadata": {},
          "execution_count": 80
        }
      ]
    },
    {
      "cell_type": "code",
      "source": [
        "print(arr1D)\n",
        "np.cumsum(arr1D)  #Cummulative sum"
      ],
      "metadata": {
        "colab": {
          "base_uri": "https://localhost:8080/"
        },
        "id": "PxlGsXxRQKeX",
        "outputId": "035f409e-3d22-4dad-b793-f6a92128316d"
      },
      "execution_count": 82,
      "outputs": [
        {
          "output_type": "stream",
          "name": "stdout",
          "text": [
            "[ 1  2  3  4  5  6  7  8  9 10]\n"
          ]
        },
        {
          "output_type": "execute_result",
          "data": {
            "text/plain": [
              "array([ 1,  3,  6, 10, 15, 21, 28, 36, 45, 55])"
            ]
          },
          "metadata": {},
          "execution_count": 82
        }
      ]
    },
    {
      "cell_type": "code",
      "source": [
        "np.cumprod(arr1D)"
      ],
      "metadata": {
        "colab": {
          "base_uri": "https://localhost:8080/"
        },
        "id": "hGpDQSyrQKbi",
        "outputId": "f14ff14a-0445-4dc6-aafc-90555d4a1dac"
      },
      "execution_count": 83,
      "outputs": [
        {
          "output_type": "execute_result",
          "data": {
            "text/plain": [
              "array([      1,       2,       6,      24,     120,     720,    5040,\n",
              "         40320,  362880, 3628800])"
            ]
          },
          "metadata": {},
          "execution_count": 83
        }
      ]
    },
    {
      "cell_type": "code",
      "source": [
        "np.multiply.outer(arr1D,arr1D)"
      ],
      "metadata": {
        "colab": {
          "base_uri": "https://localhost:8080/"
        },
        "id": "Z3czpODKQKZA",
        "outputId": "65113271-5345-4741-b368-46d885ac9091"
      },
      "execution_count": 84,
      "outputs": [
        {
          "output_type": "execute_result",
          "data": {
            "text/plain": [
              "array([[  1,   2,   3,   4,   5,   6,   7,   8,   9,  10],\n",
              "       [  2,   4,   6,   8,  10,  12,  14,  16,  18,  20],\n",
              "       [  3,   6,   9,  12,  15,  18,  21,  24,  27,  30],\n",
              "       [  4,   8,  12,  16,  20,  24,  28,  32,  36,  40],\n",
              "       [  5,  10,  15,  20,  25,  30,  35,  40,  45,  50],\n",
              "       [  6,  12,  18,  24,  30,  36,  42,  48,  54,  60],\n",
              "       [  7,  14,  21,  28,  35,  42,  49,  56,  63,  70],\n",
              "       [  8,  16,  24,  32,  40,  48,  56,  64,  72,  80],\n",
              "       [  9,  18,  27,  36,  45,  54,  63,  72,  81,  90],\n",
              "       [ 10,  20,  30,  40,  50,  60,  70,  80,  90, 100]])"
            ]
          },
          "metadata": {},
          "execution_count": 84
        }
      ]
    },
    {
      "cell_type": "code",
      "source": [
        "print(arr2D)\n",
        "arr2D.sum()"
      ],
      "metadata": {
        "colab": {
          "base_uri": "https://localhost:8080/"
        },
        "id": "tl_Q8ScHQKWB",
        "outputId": "8ab64a4a-ad54-42a3-b960-8e84939f0ea7"
      },
      "execution_count": 85,
      "outputs": [
        {
          "output_type": "stream",
          "name": "stdout",
          "text": [
            "[[1 4 7 4 8 8 9 2 0 5 8 7]\n",
            " [2 8 3 7 9 2 6 5 6 7 0 0]]\n"
          ]
        },
        {
          "output_type": "execute_result",
          "data": {
            "text/plain": [
              "118"
            ]
          },
          "metadata": {},
          "execution_count": 85
        }
      ]
    },
    {
      "cell_type": "code",
      "source": [
        "arr2D.sum(axis=0) # sum all values in each column"
      ],
      "metadata": {
        "colab": {
          "base_uri": "https://localhost:8080/"
        },
        "id": "RgdPEQ0TSiyu",
        "outputId": "0b23cb9c-d496-423a-e7ff-ac8060b9f03b"
      },
      "execution_count": 86,
      "outputs": [
        {
          "output_type": "execute_result",
          "data": {
            "text/plain": [
              "array([ 3, 12, 10, 11, 17, 10, 15,  7,  6, 12,  8,  7])"
            ]
          },
          "metadata": {},
          "execution_count": 86
        }
      ]
    },
    {
      "cell_type": "code",
      "source": [
        "arr2D.sum(axis=1) # sum all values in each row"
      ],
      "metadata": {
        "colab": {
          "base_uri": "https://localhost:8080/"
        },
        "id": "FZrmHR0oSiv1",
        "outputId": "d57b3b90-54f2-4092-cfe5-2e4d8f5bfe55"
      },
      "execution_count": 87,
      "outputs": [
        {
          "output_type": "execute_result",
          "data": {
            "text/plain": [
              "array([63, 55])"
            ]
          },
          "metadata": {},
          "execution_count": 87
        }
      ]
    },
    {
      "cell_type": "code",
      "source": [],
      "metadata": {
        "id": "1XSneAICSiss"
      },
      "execution_count": null,
      "outputs": []
    },
    {
      "cell_type": "code",
      "source": [],
      "metadata": {
        "id": "7xN9YNlISipx"
      },
      "execution_count": null,
      "outputs": []
    },
    {
      "cell_type": "code",
      "source": [],
      "metadata": {
        "id": "zzuYe7qlSim_"
      },
      "execution_count": null,
      "outputs": []
    }
  ]
}